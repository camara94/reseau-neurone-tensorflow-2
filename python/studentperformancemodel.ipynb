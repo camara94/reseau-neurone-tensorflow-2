{
 "cells": [
  {
   "cell_type": "markdown",
   "metadata": {},
   "source": [
    "# Réseau de neurones\n",
    "Nous allons, illustrer notre exemple de réseau de neurone sur une datase qui consiste predire si un étudiant va terminer ou pas \n",
    "ses études en nous basant sur certains critères"
   ]
  },
  {
   "cell_type": "markdown",
   "metadata": {},
   "source": [
    "## Importation des packages"
   ]
  },
  {
   "cell_type": "code",
   "execution_count": 1,
   "metadata": {},
   "outputs": [],
   "source": [
    "import matplotlib as mpl\n",
    "import matplotlib.pyplot as plt\n",
    "from sklearn.preprocessing import StandardScaler, LabelEncoder\n",
    "from sklearn.impute import SimpleImputer\n",
    "from sklearn.model_selection import train_test_split\n",
    "import pandas as pd\n",
    "from tensorflow.keras.models import Sequential\n",
    "from tensorflow.keras.layers import Dense"
   ]
  },
  {
   "cell_type": "markdown",
   "metadata": {},
   "source": [
    "## Création de la dataset"
   ]
  },
  {
   "cell_type": "code",
   "execution_count": 2,
   "metadata": {},
   "outputs": [
    {
     "data": {
      "text/html": [
       "<div>\n",
       "<style scoped>\n",
       "    .dataframe tbody tr th:only-of-type {\n",
       "        vertical-align: middle;\n",
       "    }\n",
       "\n",
       "    .dataframe tbody tr th {\n",
       "        vertical-align: top;\n",
       "    }\n",
       "\n",
       "    .dataframe thead th {\n",
       "        text-align: right;\n",
       "    }\n",
       "</style>\n",
       "<table border=\"1\" class=\"dataframe\">\n",
       "  <thead>\n",
       "    <tr style=\"text-align: right;\">\n",
       "      <th></th>\n",
       "      <th>gender</th>\n",
       "      <th>race/ethnicity</th>\n",
       "      <th>parental level of education</th>\n",
       "      <th>lunch</th>\n",
       "      <th>test preparation course</th>\n",
       "      <th>math score</th>\n",
       "      <th>reading score</th>\n",
       "      <th>writing score</th>\n",
       "    </tr>\n",
       "  </thead>\n",
       "  <tbody>\n",
       "    <tr>\n",
       "      <th>0</th>\n",
       "      <td>female</td>\n",
       "      <td>group B</td>\n",
       "      <td>bachelor's degree</td>\n",
       "      <td>standard</td>\n",
       "      <td>none</td>\n",
       "      <td>72</td>\n",
       "      <td>72</td>\n",
       "      <td>74</td>\n",
       "    </tr>\n",
       "    <tr>\n",
       "      <th>1</th>\n",
       "      <td>female</td>\n",
       "      <td>group C</td>\n",
       "      <td>some college</td>\n",
       "      <td>standard</td>\n",
       "      <td>completed</td>\n",
       "      <td>69</td>\n",
       "      <td>90</td>\n",
       "      <td>88</td>\n",
       "    </tr>\n",
       "  </tbody>\n",
       "</table>\n",
       "</div>"
      ],
      "text/plain": [
       "   gender race/ethnicity parental level of education     lunch  \\\n",
       "0  female        group B           bachelor's degree  standard   \n",
       "1  female        group C                some college  standard   \n",
       "\n",
       "  test preparation course  math score  reading score  writing score  \n",
       "0                    none          72             72             74  \n",
       "1               completed          69             90             88  "
      ]
     },
     "execution_count": 2,
     "metadata": {},
     "output_type": "execute_result"
    }
   ],
   "source": [
    "df = pd.read_csv('./../data/StudentsPerformance.csv')\n",
    "df.head(2)"
   ]
  },
  {
   "cell_type": "markdown",
   "metadata": {},
   "source": [
    "## Data preprocessing"
   ]
  },
  {
   "cell_type": "code",
   "execution_count": 3,
   "metadata": {},
   "outputs": [
    {
     "data": {
      "text/html": [
       "<div>\n",
       "<style scoped>\n",
       "    .dataframe tbody tr th:only-of-type {\n",
       "        vertical-align: middle;\n",
       "    }\n",
       "\n",
       "    .dataframe tbody tr th {\n",
       "        vertical-align: top;\n",
       "    }\n",
       "\n",
       "    .dataframe thead th {\n",
       "        text-align: right;\n",
       "    }\n",
       "</style>\n",
       "<table border=\"1\" class=\"dataframe\">\n",
       "  <thead>\n",
       "    <tr style=\"text-align: right;\">\n",
       "      <th></th>\n",
       "      <th>math score</th>\n",
       "      <th>reading score</th>\n",
       "      <th>writing score</th>\n",
       "    </tr>\n",
       "  </thead>\n",
       "  <tbody>\n",
       "    <tr>\n",
       "      <th>count</th>\n",
       "      <td>1000.00000</td>\n",
       "      <td>1000.000000</td>\n",
       "      <td>1000.000000</td>\n",
       "    </tr>\n",
       "    <tr>\n",
       "      <th>mean</th>\n",
       "      <td>66.08900</td>\n",
       "      <td>69.169000</td>\n",
       "      <td>68.054000</td>\n",
       "    </tr>\n",
       "    <tr>\n",
       "      <th>std</th>\n",
       "      <td>15.16308</td>\n",
       "      <td>14.600192</td>\n",
       "      <td>15.195657</td>\n",
       "    </tr>\n",
       "    <tr>\n",
       "      <th>min</th>\n",
       "      <td>0.00000</td>\n",
       "      <td>17.000000</td>\n",
       "      <td>10.000000</td>\n",
       "    </tr>\n",
       "    <tr>\n",
       "      <th>25%</th>\n",
       "      <td>57.00000</td>\n",
       "      <td>59.000000</td>\n",
       "      <td>57.750000</td>\n",
       "    </tr>\n",
       "    <tr>\n",
       "      <th>50%</th>\n",
       "      <td>66.00000</td>\n",
       "      <td>70.000000</td>\n",
       "      <td>69.000000</td>\n",
       "    </tr>\n",
       "    <tr>\n",
       "      <th>75%</th>\n",
       "      <td>77.00000</td>\n",
       "      <td>79.000000</td>\n",
       "      <td>79.000000</td>\n",
       "    </tr>\n",
       "    <tr>\n",
       "      <th>max</th>\n",
       "      <td>100.00000</td>\n",
       "      <td>100.000000</td>\n",
       "      <td>100.000000</td>\n",
       "    </tr>\n",
       "  </tbody>\n",
       "</table>\n",
       "</div>"
      ],
      "text/plain": [
       "       math score  reading score  writing score\n",
       "count  1000.00000    1000.000000    1000.000000\n",
       "mean     66.08900      69.169000      68.054000\n",
       "std      15.16308      14.600192      15.195657\n",
       "min       0.00000      17.000000      10.000000\n",
       "25%      57.00000      59.000000      57.750000\n",
       "50%      66.00000      70.000000      69.000000\n",
       "75%      77.00000      79.000000      79.000000\n",
       "max     100.00000     100.000000     100.000000"
      ]
     },
     "execution_count": 3,
     "metadata": {},
     "output_type": "execute_result"
    }
   ],
   "source": [
    "df.describe()"
   ]
  },
  {
   "cell_type": "code",
   "execution_count": 4,
   "metadata": {},
   "outputs": [
    {
     "name": "stdout",
     "output_type": "stream",
     "text": [
      "la colonne **gender** à 0 donnée(s) manquante(s)\n",
      "la colonne **race/ethnicity** à 0 donnée(s) manquante(s)\n",
      "la colonne **parental level of education** à 0 donnée(s) manquante(s)\n",
      "la colonne **lunch** à 0 donnée(s) manquante(s)\n",
      "la colonne **test preparation course** à 0 donnée(s) manquante(s)\n",
      "la colonne **math score** à 0 donnée(s) manquante(s)\n",
      "la colonne **reading score** à 0 donnée(s) manquante(s)\n",
      "la colonne **writing score** à 0 donnée(s) manquante(s)\n"
     ]
    }
   ],
   "source": [
    "import numpy as np\n",
    "for col in df.columns:\n",
    "    messing_val = 0\n",
    "    for v in df[col]:\n",
    "        if v == np.nan:\n",
    "            messing_val += 1\n",
    "    print(f'la colonne **{col}** à {messing_val} donnée(s) manquante(s)')"
   ]
  },
  {
   "cell_type": "code",
   "execution_count": 5,
   "metadata": {},
   "outputs": [
    {
     "data": {
      "text/html": [
       "<div>\n",
       "<style scoped>\n",
       "    .dataframe tbody tr th:only-of-type {\n",
       "        vertical-align: middle;\n",
       "    }\n",
       "\n",
       "    .dataframe tbody tr th {\n",
       "        vertical-align: top;\n",
       "    }\n",
       "\n",
       "    .dataframe thead th {\n",
       "        text-align: right;\n",
       "    }\n",
       "</style>\n",
       "<table border=\"1\" class=\"dataframe\">\n",
       "  <thead>\n",
       "    <tr style=\"text-align: right;\">\n",
       "      <th></th>\n",
       "      <th>gender</th>\n",
       "      <th>race/ethnicity</th>\n",
       "      <th>parental level of education</th>\n",
       "      <th>lunch</th>\n",
       "      <th>test preparation course</th>\n",
       "      <th>math score</th>\n",
       "      <th>reading score</th>\n",
       "      <th>writing score</th>\n",
       "    </tr>\n",
       "  </thead>\n",
       "  <tbody>\n",
       "    <tr>\n",
       "      <th>0</th>\n",
       "      <td>female</td>\n",
       "      <td>group B</td>\n",
       "      <td>bachelor's degree</td>\n",
       "      <td>standard</td>\n",
       "      <td>none</td>\n",
       "      <td>72</td>\n",
       "      <td>72</td>\n",
       "      <td>74</td>\n",
       "    </tr>\n",
       "    <tr>\n",
       "      <th>1</th>\n",
       "      <td>female</td>\n",
       "      <td>group C</td>\n",
       "      <td>some college</td>\n",
       "      <td>standard</td>\n",
       "      <td>completed</td>\n",
       "      <td>69</td>\n",
       "      <td>90</td>\n",
       "      <td>88</td>\n",
       "    </tr>\n",
       "    <tr>\n",
       "      <th>2</th>\n",
       "      <td>female</td>\n",
       "      <td>group B</td>\n",
       "      <td>master's degree</td>\n",
       "      <td>standard</td>\n",
       "      <td>none</td>\n",
       "      <td>90</td>\n",
       "      <td>95</td>\n",
       "      <td>93</td>\n",
       "    </tr>\n",
       "  </tbody>\n",
       "</table>\n",
       "</div>"
      ],
      "text/plain": [
       "   gender race/ethnicity parental level of education     lunch  \\\n",
       "0  female        group B           bachelor's degree  standard   \n",
       "1  female        group C                some college  standard   \n",
       "2  female        group B             master's degree  standard   \n",
       "\n",
       "  test preparation course  math score  reading score  writing score  \n",
       "0                    none          72             72             74  \n",
       "1               completed          69             90             88  \n",
       "2                    none          90             95             93  "
      ]
     },
     "execution_count": 5,
     "metadata": {},
     "output_type": "execute_result"
    }
   ],
   "source": [
    "df.head(3)"
   ]
  },
  {
   "cell_type": "code",
   "execution_count": 19,
   "metadata": {},
   "outputs": [],
   "source": [
    "## Le rôle de cette methode est de transformer les variables catégorielles en variable numériques, les standardisées et \n",
    "## les retourner\n",
    "def data_preprocessing(df=df):\n",
    "    labelEncoder = LabelEncoder()\n",
    "    standardScaler = StandardScaler()\n",
    "    target = []\n",
    "    result = df.copy()\n",
    "    data = df.copy()\n",
    "    resulat_value = []\n",
    "    for i in range(0, 5):\n",
    "        try:\n",
    "            # Transformation des variable catégorielle en variable nuémerique\n",
    "            data.iloc[:, i] = labelEncoder.fit_transform(data.iloc[:, i])\n",
    "            # suppression de la colonne **test preparation course**\n",
    "            data.drop(['test preparation course'], axis=1, inplace=True)\n",
    "        except KeyError:\n",
    "            pass\n",
    "    [resulat_value.append(df.iloc[:, 4][i]) for i in range(1, 3) ]\n",
    "    result.iloc[:, 4] = labelEncoder.fit_transform(result.iloc[:, 4])\n",
    "    target = result.iloc[:, 4]\n",
    "    # Standardisation\n",
    "    data = standardScaler.fit_transform(data)\n",
    "    return data, target, resulat_value"
   ]
  },
  {
   "cell_type": "code",
   "execution_count": 20,
   "metadata": {},
   "outputs": [],
   "source": [
    "X, y, r = data_preprocessing()"
   ]
  },
  {
   "cell_type": "code",
   "execution_count": 21,
   "metadata": {},
   "outputs": [
    {
     "data": {
      "text/plain": [
       "['completed', 'none']"
      ]
     },
     "execution_count": 21,
     "metadata": {},
     "output_type": "execute_result"
    }
   ],
   "source": [
    "r"
   ]
  },
  {
   "cell_type": "code",
   "execution_count": 41,
   "metadata": {},
   "outputs": [
    {
     "name": "stdout",
     "output_type": "stream",
     "text": [
      "Nous avons 7 variable(s) indépendante(s)\n"
     ]
    }
   ],
   "source": [
    "print(f'Nous avons {X.shape[1]} variable(s) indépendante(s)')"
   ]
  },
  {
   "cell_type": "code",
   "execution_count": 335,
   "metadata": {},
   "outputs": [],
   "source": [
    "x_train, x_test, y_train, y_test = train_test_split(X, y, test_size=.25, shuffle=True )"
   ]
  },
  {
   "cell_type": "code",
   "execution_count": 336,
   "metadata": {},
   "outputs": [
    {
     "name": "stdout",
     "output_type": "stream",
     "text": [
      "La taille de train set est: 750\n",
      " La taille de test set est: 250\n",
      "La taille de test set est: (250, 7)\n",
      "La taille de test set est: (250,)\n"
     ]
    }
   ],
   "source": [
    "print(f'La taille de train set est: {x_train.shape[0]}\\n La taille de test set est: {x_test.shape[0]}')\n",
    "print(f'La taille de test set est: {x_test.shape}')\n",
    "print(f'La taille de test set est: {y_test.shape}')"
   ]
  },
  {
   "cell_type": "markdown",
   "metadata": {},
   "source": [
    "## Création de notre réseau de neuron"
   ]
  },
  {
   "cell_type": "code",
   "execution_count": 337,
   "metadata": {},
   "outputs": [],
   "source": [
    "## Model simple avec Sequential\n",
    "model = Sequential()\n",
    "## création de la couche cachée\n",
    "couche_cachee = Dense(30, input_dim=7, activation='relu')\n",
    "couche_cachee2 = Dense(20, activation='relu')\n",
    "couche_cachee3 = Dense(5, activation='relu')\n",
    "couche_sortie = Dense(1, activation='sigmoid')\n",
    "model.add( couche_cachee )\n",
    "model.add( couche_cachee2 )\n",
    "model.add( couche_cachee3 )\n",
    "\n",
    "model.add( couche_sortie )\n",
    "model.compile( optimizer='adam', loss='binary_crossentropy', metrics=['accuracy'] )"
   ]
  },
  {
   "cell_type": "code",
   "execution_count": 338,
   "metadata": {},
   "outputs": [
    {
     "name": "stdout",
     "output_type": "stream",
     "text": [
      "Model: \"sequential_43\"\n",
      "_________________________________________________________________\n",
      "Layer (type)                 Output Shape              Param #   \n",
      "=================================================================\n",
      "dense_274 (Dense)            (None, 30)                240       \n",
      "_________________________________________________________________\n",
      "dense_275 (Dense)            (None, 20)                620       \n",
      "_________________________________________________________________\n",
      "dense_276 (Dense)            (None, 5)                 105       \n",
      "_________________________________________________________________\n",
      "dense_277 (Dense)            (None, 1)                 6         \n",
      "=================================================================\n",
      "Total params: 971\n",
      "Trainable params: 971\n",
      "Non-trainable params: 0\n",
      "_________________________________________________________________\n"
     ]
    }
   ],
   "source": [
    "model.summary()\n",
    "model.build()"
   ]
  },
  {
   "cell_type": "code",
   "execution_count": 339,
   "metadata": {},
   "outputs": [
    {
     "name": "stdout",
     "output_type": "stream",
     "text": [
      "Epoch 1/65\n",
      "24/24 [==============================] - 0s 1ms/step - loss: 0.6780 - accuracy: 0.6507\n",
      "Epoch 2/65\n",
      "24/24 [==============================] - 0s 1ms/step - loss: 0.6577 - accuracy: 0.6507\n",
      "Epoch 3/65\n",
      "24/24 [==============================] - 0s 1ms/step - loss: 0.6309 - accuracy: 0.6507\n",
      "Epoch 4/65\n",
      "24/24 [==============================] - 0s 2ms/step - loss: 0.6156 - accuracy: 0.6507\n",
      "Epoch 5/65\n",
      "24/24 [==============================] - 0s 1ms/step - loss: 0.6070 - accuracy: 0.6507\n",
      "Epoch 6/65\n",
      "24/24 [==============================] - 0s 1ms/step - loss: 0.6013 - accuracy: 0.6507\n",
      "Epoch 7/65\n",
      "24/24 [==============================] - 0s 2ms/step - loss: 0.5978 - accuracy: 0.6507\n",
      "Epoch 8/65\n",
      "24/24 [==============================] - 0s 1ms/step - loss: 0.5926 - accuracy: 0.6507\n",
      "Epoch 9/65\n",
      "24/24 [==============================] - 0s 2ms/step - loss: 0.5900 - accuracy: 0.6507\n",
      "Epoch 10/65\n",
      "24/24 [==============================] - 0s 2ms/step - loss: 0.5867 - accuracy: 0.6507\n",
      "Epoch 11/65\n",
      "24/24 [==============================] - 0s 2ms/step - loss: 0.5830 - accuracy: 0.6507\n",
      "Epoch 12/65\n",
      "24/24 [==============================] - 0s 2ms/step - loss: 0.5793 - accuracy: 0.6507\n",
      "Epoch 13/65\n",
      "24/24 [==============================] - 0s 2ms/step - loss: 0.5768 - accuracy: 0.6507\n",
      "Epoch 14/65\n",
      "24/24 [==============================] - 0s 2ms/step - loss: 0.5734 - accuracy: 0.6507\n",
      "Epoch 15/65\n",
      "24/24 [==============================] - ETA: 0s - loss: 0.5137 - accuracy: 0.71 - 0s 1ms/step - loss: 0.5711 - accuracy: 0.6507\n",
      "Epoch 16/65\n",
      "24/24 [==============================] - 0s 2ms/step - loss: 0.5674 - accuracy: 0.6987\n",
      "Epoch 17/65\n",
      "24/24 [==============================] - 0s 1ms/step - loss: 0.5657 - accuracy: 0.6933\n",
      "Epoch 18/65\n",
      "24/24 [==============================] - 0s 2ms/step - loss: 0.5609 - accuracy: 0.7093\n",
      "Epoch 19/65\n",
      "24/24 [==============================] - 0s 2ms/step - loss: 0.5590 - accuracy: 0.7107\n",
      "Epoch 20/65\n",
      "24/24 [==============================] - 0s 1ms/step - loss: 0.5582 - accuracy: 0.7040\n",
      "Epoch 21/65\n",
      "24/24 [==============================] - 0s 2ms/step - loss: 0.5525 - accuracy: 0.7080\n",
      "Epoch 22/65\n",
      "24/24 [==============================] - 0s 2ms/step - loss: 0.5495 - accuracy: 0.7147\n",
      "Epoch 23/65\n",
      "24/24 [==============================] - 0s 2ms/step - loss: 0.5464 - accuracy: 0.7240\n",
      "Epoch 24/65\n",
      "24/24 [==============================] - 0s 2ms/step - loss: 0.5435 - accuracy: 0.7293\n",
      "Epoch 25/65\n",
      "24/24 [==============================] - 0s 2ms/step - loss: 0.5420 - accuracy: 0.7333\n",
      "Epoch 26/65\n",
      "24/24 [==============================] - 0s 2ms/step - loss: 0.5387 - accuracy: 0.7347\n",
      "Epoch 27/65\n",
      "24/24 [==============================] - 0s 2ms/step - loss: 0.5374 - accuracy: 0.7413\n",
      "Epoch 28/65\n",
      "24/24 [==============================] - 0s 2ms/step - loss: 0.5357 - accuracy: 0.7373\n",
      "Epoch 29/65\n",
      "24/24 [==============================] - 0s 2ms/step - loss: 0.5318 - accuracy: 0.7467\n",
      "Epoch 30/65\n",
      "24/24 [==============================] - 0s 2ms/step - loss: 0.5297 - accuracy: 0.7387\n",
      "Epoch 31/65\n",
      "24/24 [==============================] - 0s 1ms/step - loss: 0.5282 - accuracy: 0.7387\n",
      "Epoch 32/65\n",
      "24/24 [==============================] - 0s 2ms/step - loss: 0.5254 - accuracy: 0.7453\n",
      "Epoch 33/65\n",
      "24/24 [==============================] - 0s 2ms/step - loss: 0.5239 - accuracy: 0.7453\n",
      "Epoch 34/65\n",
      "24/24 [==============================] - 0s 1ms/step - loss: 0.5222 - accuracy: 0.7467\n",
      "Epoch 35/65\n",
      "24/24 [==============================] - 0s 1ms/step - loss: 0.5193 - accuracy: 0.7493\n",
      "Epoch 36/65\n",
      "24/24 [==============================] - 0s 2ms/step - loss: 0.5193 - accuracy: 0.7453\n",
      "Epoch 37/65\n",
      "24/24 [==============================] - 0s 2ms/step - loss: 0.5160 - accuracy: 0.7627\n",
      "Epoch 38/65\n",
      "24/24 [==============================] - 0s 2ms/step - loss: 0.5149 - accuracy: 0.7547\n",
      "Epoch 39/65\n",
      "24/24 [==============================] - 0s 1ms/step - loss: 0.5146 - accuracy: 0.7573\n",
      "Epoch 40/65\n",
      "24/24 [==============================] - 0s 1ms/step - loss: 0.5136 - accuracy: 0.7653\n",
      "Epoch 41/65\n",
      "24/24 [==============================] - 0s 2ms/step - loss: 0.5118 - accuracy: 0.7440\n",
      "Epoch 42/65\n",
      "24/24 [==============================] - 0s 2ms/step - loss: 0.5087 - accuracy: 0.7587\n",
      "Epoch 43/65\n",
      "24/24 [==============================] - 0s 1ms/step - loss: 0.5080 - accuracy: 0.7573\n",
      "Epoch 44/65\n",
      "24/24 [==============================] - 0s 2ms/step - loss: 0.5062 - accuracy: 0.7573\n",
      "Epoch 45/65\n",
      "24/24 [==============================] - 0s 2ms/step - loss: 0.5053 - accuracy: 0.7680\n",
      "Epoch 46/65\n",
      "24/24 [==============================] - 0s 2ms/step - loss: 0.5041 - accuracy: 0.7573\n",
      "Epoch 47/65\n",
      "24/24 [==============================] - 0s 1ms/step - loss: 0.5025 - accuracy: 0.7573\n",
      "Epoch 48/65\n",
      "24/24 [==============================] - 0s 2ms/step - loss: 0.5003 - accuracy: 0.7560\n",
      "Epoch 49/65\n",
      "24/24 [==============================] - 0s 2ms/step - loss: 0.4983 - accuracy: 0.7760\n",
      "Epoch 50/65\n",
      "24/24 [==============================] - 0s 2ms/step - loss: 0.4973 - accuracy: 0.7533\n",
      "Epoch 51/65\n",
      "24/24 [==============================] - 0s 2ms/step - loss: 0.4976 - accuracy: 0.7693\n",
      "Epoch 52/65\n",
      "24/24 [==============================] - 0s 2ms/step - loss: 0.4943 - accuracy: 0.7707\n",
      "Epoch 53/65\n",
      "24/24 [==============================] - 0s 1ms/step - loss: 0.4942 - accuracy: 0.7613\n",
      "Epoch 54/65\n",
      "24/24 [==============================] - 0s 2ms/step - loss: 0.4921 - accuracy: 0.7720\n",
      "Epoch 55/65\n",
      "24/24 [==============================] - 0s 2ms/step - loss: 0.4935 - accuracy: 0.7493\n",
      "Epoch 56/65\n",
      "24/24 [==============================] - 0s 1ms/step - loss: 0.4896 - accuracy: 0.7733\n",
      "Epoch 57/65\n",
      "24/24 [==============================] - 0s 1ms/step - loss: 0.4888 - accuracy: 0.7613\n",
      "Epoch 58/65\n",
      "24/24 [==============================] - 0s 2ms/step - loss: 0.4871 - accuracy: 0.7640\n",
      "Epoch 59/65\n",
      "24/24 [==============================] - 0s 2ms/step - loss: 0.4886 - accuracy: 0.7720\n",
      "Epoch 60/65\n",
      "24/24 [==============================] - 0s 2ms/step - loss: 0.4876 - accuracy: 0.7667\n",
      "Epoch 61/65\n",
      "24/24 [==============================] - 0s 2ms/step - loss: 0.4847 - accuracy: 0.7627\n",
      "Epoch 62/65\n",
      "24/24 [==============================] - 0s 2ms/step - loss: 0.4832 - accuracy: 0.7680\n",
      "Epoch 63/65\n",
      "24/24 [==============================] - 0s 2ms/step - loss: 0.4851 - accuracy: 0.7693\n",
      "Epoch 64/65\n",
      "24/24 [==============================] - 0s 1ms/step - loss: 0.4839 - accuracy: 0.7720\n",
      "Epoch 65/65\n",
      "24/24 [==============================] - 0s 1ms/step - loss: 0.4795 - accuracy: 0.7680\n"
     ]
    },
    {
     "data": {
      "text/plain": [
       "<tensorflow.python.keras.callbacks.History at 0x18d2e7bd670>"
      ]
     },
     "execution_count": 339,
     "metadata": {},
     "output_type": "execute_result"
    }
   ],
   "source": [
    "history = model.fit(x_train, y_train, epochs=65)\n",
    "history"
   ]
  },
  {
   "cell_type": "code",
   "execution_count": 341,
   "metadata": {},
   "outputs": [
    {
     "data": {
      "text/plain": [
       "[<matplotlib.lines.Line2D at 0x18d223d1190>]"
      ]
     },
     "execution_count": 341,
     "metadata": {},
     "output_type": "execute_result"
    },
    {
     "data": {
      "image/png": "[encoded data removed]",
      "text/plain": [
       "<Figure size 432x288 with 1 Axes>"
      ]
     },
     "metadata": {
      "needs_background": "light"
     },
     "output_type": "display_data"
    }
   ],
   "source": [
    "plt.plot(history.history['loss'])"
   ]
  },
  {
   "cell_type": "code",
   "execution_count": 342,
   "metadata": {},
   "outputs": [
    {
     "name": "stdout",
     "output_type": "stream",
     "text": [
      "8/8 [==============================] - 0s 1ms/step - loss: 0.5507 - accuracy: 0.7280\n"
     ]
    }
   ],
   "source": [
    "lost, acc = model.evaluate(x_test, y_test)"
   ]
  },
  {
   "cell_type": "code",
   "execution_count": 343,
   "metadata": {},
   "outputs": [
    {
     "data": {
      "text/plain": [
       "0.5506669282913208"
      ]
     },
     "execution_count": 343,
     "metadata": {},
     "output_type": "execute_result"
    }
   ],
   "source": [
    "lost"
   ]
  },
  {
   "cell_type": "code",
   "execution_count": null,
   "metadata": {},
   "outputs": [],
   "source": []
  },
  {
   "cell_type": "code",
   "execution_count": 344,
   "metadata": {},
   "outputs": [
    {
     "data": {
      "text/plain": [
       "0.7279999852180481"
      ]
     },
     "execution_count": 344,
     "metadata": {},
     "output_type": "execute_result"
    }
   ],
   "source": [
    "acc"
   ]
  },
  {
   "cell_type": "code",
   "execution_count": 350,
   "metadata": {},
   "outputs": [
    {
     "data": {
      "text/plain": [
       "array([[0.38981417]], dtype=float32)"
      ]
     },
     "execution_count": 350,
     "metadata": {},
     "output_type": "execute_result"
    }
   ],
   "source": [
    "model.predict(np.array([x_test[3]]))"
   ]
  },
  {
   "cell_type": "code",
   "execution_count": 382,
   "metadata": {},
   "outputs": [
    {
     "name": "stdout",
     "output_type": "stream",
     "text": [
      "modèle: none -> dataset: none\n",
      "modèle: none -> dataset: none\n",
      "modèle: completed -> dataset: none\n",
      "modèle: completed -> dataset: completed\n",
      "modèle: completed -> dataset: none\n",
      "modèle: none -> dataset: none\n",
      "modèle: none -> dataset: none\n",
      "modèle: none -> dataset: none\n",
      "modèle: none -> dataset: none\n",
      "modèle: none -> dataset: completed\n",
      "modèle: completed -> dataset: none\n",
      "modèle: none -> dataset: completed\n",
      "modèle: completed -> dataset: none\n",
      "modèle: none -> dataset: none\n",
      "modèle: none -> dataset: none\n",
      "modèle: completed -> dataset: completed\n",
      "modèle: none -> dataset: none\n",
      "modèle: none -> dataset: none\n",
      "modèle: completed -> dataset: completed\n",
      "modèle: completed -> dataset: completed\n",
      "modèle: none -> dataset: completed\n",
      "modèle: none -> dataset: none\n",
      "modèle: completed -> dataset: none\n",
      "modèle: none -> dataset: none\n",
      "modèle: completed -> dataset: none\n",
      "modèle: none -> dataset: none\n",
      "modèle: none -> dataset: none\n",
      "modèle: completed -> dataset: completed\n",
      "modèle: none -> dataset: completed\n",
      "modèle: completed -> dataset: completed\n",
      "modèle: completed -> dataset: completed\n",
      "modèle: completed -> dataset: completed\n",
      "modèle: none -> dataset: none\n",
      "modèle: completed -> dataset: completed\n",
      "modèle: none -> dataset: none\n",
      "modèle: completed -> dataset: none\n",
      "modèle: none -> dataset: none\n",
      "modèle: none -> dataset: completed\n",
      "modèle: none -> dataset: none\n",
      "modèle: completed -> dataset: completed\n",
      "modèle: completed -> dataset: none\n",
      "modèle: none -> dataset: none\n",
      "modèle: none -> dataset: none\n",
      "modèle: none -> dataset: completed\n",
      "modèle: none -> dataset: completed\n",
      "modèle: none -> dataset: none\n",
      "modèle: none -> dataset: none\n",
      "modèle: none -> dataset: none\n",
      "modèle: completed -> dataset: none\n",
      "modèle: completed -> dataset: completed\n",
      "modèle: completed -> dataset: none\n",
      "modèle: none -> dataset: none\n",
      "modèle: completed -> dataset: completed\n",
      "modèle: none -> dataset: none\n",
      "modèle: none -> dataset: none\n",
      "modèle: none -> dataset: none\n",
      "modèle: none -> dataset: none\n",
      "modèle: none -> dataset: none\n",
      "modèle: none -> dataset: none\n",
      "modèle: none -> dataset: none\n",
      "modèle: none -> dataset: completed\n",
      "modèle: completed -> dataset: completed\n",
      "modèle: none -> dataset: completed\n",
      "modèle: none -> dataset: none\n",
      "modèle: none -> dataset: none\n",
      "modèle: completed -> dataset: none\n",
      "modèle: none -> dataset: none\n",
      "modèle: completed -> dataset: completed\n",
      "modèle: none -> dataset: completed\n",
      "modèle: completed -> dataset: completed\n",
      "modèle: none -> dataset: none\n",
      "modèle: none -> dataset: completed\n",
      "modèle: none -> dataset: completed\n",
      "modèle: completed -> dataset: none\n",
      "modèle: none -> dataset: completed\n",
      "modèle: completed -> dataset: completed\n",
      "modèle: none -> dataset: completed\n",
      "modèle: completed -> dataset: none\n",
      "modèle: none -> dataset: completed\n",
      "modèle: none -> dataset: none\n",
      "modèle: none -> dataset: none\n",
      "modèle: none -> dataset: completed\n",
      "modèle: completed -> dataset: completed\n",
      "modèle: none -> dataset: none\n",
      "modèle: completed -> dataset: completed\n",
      "modèle: none -> dataset: none\n",
      "modèle: completed -> dataset: completed\n",
      "modèle: completed -> dataset: completed\n",
      "modèle: completed -> dataset: none\n",
      "modèle: none -> dataset: none\n",
      "modèle: none -> dataset: none\n",
      "modèle: none -> dataset: completed\n",
      "modèle: none -> dataset: none\n",
      "modèle: none -> dataset: none\n",
      "modèle: none -> dataset: none\n",
      "modèle: none -> dataset: none\n",
      "modèle: none -> dataset: completed\n",
      "modèle: completed -> dataset: none\n",
      "modèle: completed -> dataset: completed\n",
      "modèle: none -> dataset: none\n",
      "modèle: none -> dataset: none\n",
      "modèle: none -> dataset: none\n",
      "modèle: completed -> dataset: completed\n",
      "modèle: completed -> dataset: completed\n",
      "modèle: completed -> dataset: completed\n",
      "modèle: none -> dataset: none\n",
      "modèle: none -> dataset: none\n",
      "modèle: none -> dataset: completed\n",
      "modèle: completed -> dataset: none\n",
      "modèle: none -> dataset: none\n",
      "modèle: none -> dataset: none\n",
      "modèle: none -> dataset: completed\n",
      "modèle: completed -> dataset: none\n",
      "modèle: completed -> dataset: none\n",
      "modèle: none -> dataset: none\n",
      "modèle: completed -> dataset: completed\n",
      "modèle: none -> dataset: none\n",
      "modèle: none -> dataset: completed\n",
      "modèle: none -> dataset: completed\n",
      "modèle: completed -> dataset: completed\n",
      "modèle: none -> dataset: none\n",
      "modèle: completed -> dataset: completed\n",
      "modèle: none -> dataset: none\n",
      "modèle: none -> dataset: none\n",
      "modèle: none -> dataset: none\n",
      "modèle: none -> dataset: none\n",
      "modèle: none -> dataset: none\n",
      "modèle: none -> dataset: none\n",
      "modèle: none -> dataset: none\n",
      "modèle: none -> dataset: completed\n",
      "modèle: completed -> dataset: completed\n",
      "modèle: completed -> dataset: completed\n",
      "modèle: none -> dataset: none\n",
      "modèle: completed -> dataset: completed\n",
      "modèle: none -> dataset: none\n",
      "modèle: completed -> dataset: completed\n",
      "modèle: none -> dataset: none\n",
      "modèle: none -> dataset: completed\n",
      "modèle: none -> dataset: none\n",
      "modèle: none -> dataset: none\n",
      "modèle: none -> dataset: none\n",
      "modèle: none -> dataset: none\n",
      "modèle: completed -> dataset: completed\n",
      "modèle: none -> dataset: none\n",
      "modèle: none -> dataset: none\n",
      "modèle: none -> dataset: none\n",
      "modèle: none -> dataset: none\n",
      "modèle: none -> dataset: none\n",
      "modèle: none -> dataset: none\n",
      "modèle: completed -> dataset: completed\n",
      "modèle: completed -> dataset: completed\n",
      "modèle: none -> dataset: none\n",
      "modèle: none -> dataset: none\n",
      "modèle: none -> dataset: none\n",
      "modèle: none -> dataset: completed\n",
      "modèle: completed -> dataset: none\n",
      "modèle: completed -> dataset: none\n",
      "modèle: none -> dataset: none\n",
      "modèle: none -> dataset: none\n",
      "modèle: completed -> dataset: none\n",
      "modèle: none -> dataset: none\n",
      "modèle: completed -> dataset: completed\n",
      "modèle: completed -> dataset: completed\n",
      "modèle: none -> dataset: none\n",
      "modèle: none -> dataset: none\n",
      "modèle: none -> dataset: completed\n",
      "modèle: none -> dataset: none\n",
      "modèle: none -> dataset: none\n",
      "modèle: none -> dataset: none\n",
      "modèle: completed -> dataset: completed\n",
      "modèle: none -> dataset: none\n",
      "modèle: completed -> dataset: completed\n",
      "modèle: completed -> dataset: none\n",
      "modèle: none -> dataset: completed\n",
      "modèle: none -> dataset: none\n",
      "modèle: completed -> dataset: completed\n",
      "modèle: none -> dataset: none\n",
      "modèle: none -> dataset: none\n",
      "modèle: none -> dataset: none\n",
      "modèle: none -> dataset: none\n",
      "modèle: none -> dataset: completed\n",
      "modèle: none -> dataset: none\n",
      "modèle: none -> dataset: none\n",
      "modèle: none -> dataset: none\n",
      "modèle: none -> dataset: none\n",
      "modèle: none -> dataset: completed\n",
      "modèle: completed -> dataset: completed\n",
      "modèle: completed -> dataset: completed\n",
      "modèle: none -> dataset: none\n",
      "modèle: none -> dataset: completed\n",
      "modèle: none -> dataset: none\n",
      "modèle: completed -> dataset: completed\n",
      "modèle: none -> dataset: completed\n",
      "modèle: none -> dataset: none\n",
      "modèle: completed -> dataset: completed\n",
      "modèle: completed -> dataset: completed\n",
      "modèle: none -> dataset: none\n",
      "modèle: completed -> dataset: completed\n",
      "modèle: none -> dataset: none\n",
      "modèle: none -> dataset: none\n",
      "modèle: none -> dataset: none\n",
      "modèle: completed -> dataset: completed\n",
      "modèle: none -> dataset: completed\n",
      "modèle: completed -> dataset: completed\n",
      "modèle: completed -> dataset: completed\n",
      "modèle: none -> dataset: completed\n",
      "modèle: none -> dataset: completed\n",
      "modèle: none -> dataset: none\n",
      "modèle: none -> dataset: none\n",
      "modèle: none -> dataset: none\n",
      "modèle: none -> dataset: none\n",
      "modèle: none -> dataset: completed\n",
      "modèle: none -> dataset: none\n",
      "modèle: completed -> dataset: completed\n",
      "modèle: none -> dataset: none\n",
      "modèle: none -> dataset: none\n",
      "modèle: completed -> dataset: none\n",
      "modèle: none -> dataset: none\n",
      "modèle: none -> dataset: completed\n",
      "modèle: completed -> dataset: completed\n",
      "modèle: none -> dataset: completed\n",
      "modèle: none -> dataset: none\n",
      "modèle: none -> dataset: none\n",
      "modèle: none -> dataset: none\n",
      "modèle: none -> dataset: none\n",
      "modèle: none -> dataset: none\n",
      "modèle: none -> dataset: none\n",
      "modèle: completed -> dataset: completed\n",
      "modèle: completed -> dataset: completed\n",
      "modèle: completed -> dataset: completed\n",
      "modèle: none -> dataset: completed\n",
      "modèle: none -> dataset: none\n",
      "modèle: completed -> dataset: completed\n",
      "modèle: none -> dataset: none\n",
      "modèle: none -> dataset: completed\n",
      "modèle: none -> dataset: completed\n",
      "modèle: completed -> dataset: none\n",
      "modèle: none -> dataset: none\n",
      "modèle: completed -> dataset: none\n",
      "modèle: none -> dataset: none\n",
      "modèle: completed -> dataset: none\n",
      "modèle: none -> dataset: none\n",
      "modèle: none -> dataset: none\n",
      "modèle: none -> dataset: none\n",
      "modèle: none -> dataset: none\n"
     ]
    },
    {
     "name": "stdout",
     "output_type": "stream",
     "text": [
      "modèle: completed -> dataset: completed\n",
      "modèle: none -> dataset: completed\n",
      "modèle: none -> dataset: none\n",
      "modèle: none -> dataset: none\n",
      "modèle: completed -> dataset: none\n"
     ]
    }
   ],
   "source": [
    "for i,v in enumerate(y_test): \n",
    "    print('modèle: {} -> dataset: {}'.format(r[int(np.round(model.predict(np.array([x_test[i]]))[0][0]))], r[v]))"
   ]
  },
  {
   "cell_type": "code",
   "execution_count": 352,
   "metadata": {},
   "outputs": [
    {
     "data": {
      "text/plain": [
       "'completed'"
      ]
     },
     "execution_count": 352,
     "metadata": {},
     "output_type": "execute_result"
    }
   ],
   "source": [
    "df.iloc[:, 4][101]"
   ]
  },
  {
   "cell_type": "code",
   "execution_count": null,
   "metadata": {},
   "outputs": [],
   "source": []
  }
 ],
 "metadata": {
  "kernelspec": {
   "display_name": "Python 3",
   "language": "python",
   "name": "python3"
  },
  "language_info": {
   "codemirror_mode": {
    "name": "ipython",
    "version": 3
   },
   "file_extension": ".py",
   "mimetype": "text/x-python",
   "name": "python",
   "nbconvert_exporter": "python",
   "pygments_lexer": "ipython3",
   "version": "3.8.5"
  }
 },
 "nbformat": 4,
 "nbformat_minor": 4
}
